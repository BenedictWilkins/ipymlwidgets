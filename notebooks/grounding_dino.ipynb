{
 "cells": [
  {
   "cell_type": "code",
   "execution_count": null,
   "id": "0",
   "metadata": {},
   "outputs": [],
   "source": [
    "# Initialize\n",
    "from ipymlwidgets.models.torch.grounding_dino import GroundingDINO\n",
    "from PIL import Image\n",
    "\n",
    "image = Image.open(\"../res/demo-image-ps.webp\")\n",
    "\n",
    "detector = GroundingDINO(box_threshold=0.1, device=\"cuda\")\n"
   ]
  },
  {
   "cell_type": "code",
   "execution_count": null,
   "id": "1",
   "metadata": {},
   "outputs": [],
   "source": [
    "from ipymlwidgets.annotate import ObjectAnnotator\n",
    "from ipymlwidgets.models.torch.grounding_dino import GroundingDINO\n",
    "from PIL import Image\n",
    "\n",
    "image = Image.open(\"../res/demo-image-ps.webp\")\n",
    "boxes, = detector.annotate(image, \"icon\")\n",
    "\n",
    "DATA = [{\n",
    "    \"image\": \"../res/demo-image-ps.webp\",\n",
    "    \"boxes\": boxes.cpu()\n",
    "}]\n",
    "\n",
    "def _on_selection(change):\n",
    "    if change['new'] is not None:\n",
    "        # delete the selecction - ctrl is the delete modifier\n",
    "        if ann.image_annotator.mouse_down['ctrl']:\n",
    "            ann.image_annotator.remove_box(change['new'].index)\n",
    "        \n",
    "ann = ObjectAnnotator(data=DATA)\n",
    "ann.image_annotator.observe(_on_selection, \"selection\")\n",
    "display(ann)"
   ]
  }
 ],
 "metadata": {
  "kernelspec": {
   "display_name": ".venv",
   "language": "python",
   "name": "python3"
  },
  "language_info": {
   "codemirror_mode": {
    "name": "ipython",
    "version": 3
   },
   "file_extension": ".py",
   "mimetype": "text/x-python",
   "name": "python",
   "nbconvert_exporter": "python",
   "pygments_lexer": "ipython3",
   "version": "3.10.12"
  }
 },
 "nbformat": 4,
 "nbformat_minor": 5
}
