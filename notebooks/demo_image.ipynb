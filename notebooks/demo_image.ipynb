{
 "cells": [
  {
   "cell_type": "code",
   "execution_count": 5,
   "id": "e182ef9c",
   "metadata": {},
   "outputs": [
    {
     "data": {
      "application/vnd.jupyter.widget-view+json": {
       "model_id": "4d7718186bd6484caf58e221dce17b17",
       "version_major": 2,
       "version_minor": 1
      },
      "text/plain": [
       "Box(children=[MultiCanvas((500, 100), layers=1)], layout={'height': '100px'})"
      ]
     },
     "metadata": {},
     "output_type": "display_data"
    }
   ],
   "source": [
    "from ipymlwidgets import Image, Box\n",
    "from ipymlwidgets.demo import demo_image\n",
    "import numpy as np\n",
    "\n",
    "image = Image(np.random.randint(0, 255, (100, 500, 3), dtype=np.uint8))\n",
    "box = Box([image], layout = {\"height\" : \"100px\"})\n",
    "display(box)"
   ]
  }
 ],
 "metadata": {
  "kernelspec": {
   "display_name": "ipymlwidgets",
   "language": "python",
   "name": "python3"
  },
  "language_info": {
   "codemirror_mode": {
    "name": "ipython",
    "version": 3
   },
   "file_extension": ".py",
   "mimetype": "text/x-python",
   "name": "python",
   "nbconvert_exporter": "python",
   "pygments_lexer": "ipython3",
   "version": "3.13.5"
  }
 },
 "nbformat": 4,
 "nbformat_minor": 5
}
