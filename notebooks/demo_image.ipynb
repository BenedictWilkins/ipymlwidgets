{
 "cells": [
  {
   "cell_type": "code",
   "execution_count": 10,
   "id": "e182ef9c",
   "metadata": {},
   "outputs": [
    {
     "data": {
      "application/vnd.jupyter.widget-view+json": {
       "model_id": "e0d33018b6934f2b94abbb0ae4c2aea5",
       "version_major": 2,
       "version_minor": 1
      },
      "text/plain": [
       "MultiCanvas((200, 29), layers=1)"
      ]
     },
     "metadata": {},
     "output_type": "display_data"
    },
    {
     "data": {
      "application/vnd.jupyter.widget-view+json": {
       "model_id": "89ab17416fba463a9cd1112adddaded4",
       "version_major": 2,
       "version_minor": 1
      },
      "text/plain": [
       "MultiCanvas((32, 32), layers=1)"
      ]
     },
     "metadata": {},
     "output_type": "display_data"
    }
   ],
   "source": [
    "from ipymlwidgets import Image, Box\n",
    "from ipymlwidgets.demo import demo_image\n",
    "import numpy as np\n",
    "\n",
    "image = Image(np.random.randint(0, 255, (29, 200, 3), dtype=np.uint8))\n",
    "display(image)\n",
    "\n",
    "image = Image(demo_image())\n",
    "display(image)"
   ]
  },
  {
   "cell_type": "code",
   "execution_count": null,
   "id": "5e02f0cb",
   "metadata": {},
   "outputs": [],
   "source": [
    "from ipymlwidgets import ImageAnnotated, Box\n",
    "from ipymlwidgets.demo import demo_image\n",
    "import numpy as np\n",
    "\n",
    "image = ImageAnnotated(demo_image())\n",
    "box = Box([image], layout = dict(\n",
    "    display='flex',\n",
    "    flex_direction='column',\n",
    "    width='100%',\n",
    "    height='500px',          # or '100%' if its parent ALSO has a height\n",
    "))\n",
    "display(Box([box], layout=dict(width=\"100%\")))\n"
   ]
  }
 ],
 "metadata": {
  "kernelspec": {
   "display_name": "ipymlwidgets",
   "language": "python",
   "name": "python3"
  },
  "language_info": {
   "codemirror_mode": {
    "name": "ipython",
    "version": 3
   },
   "file_extension": ".py",
   "mimetype": "text/x-python",
   "name": "python",
   "nbconvert_exporter": "python",
   "pygments_lexer": "ipython3",
   "version": "3.13.5"
  }
 },
 "nbformat": 4,
 "nbformat_minor": 5
}
