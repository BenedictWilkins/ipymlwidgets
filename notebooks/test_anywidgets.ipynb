{
 "cells": [
  {
   "cell_type": "code",
   "execution_count": null,
   "metadata": {},
   "outputs": [],
   "source": [
    "from ipymlwidgets.widgets import Canvas\n",
    "from ipymlwidgets.utils import demo_image\n",
    "import numpy as np\n",
    "\n",
    "image = demo_image()\n",
    "canvas = Canvas(width=image.shape[1], height=image.shape[0])\n",
    "canvas.observe(print, \"client_size\")\n",
    "canvas.css_width = \"10%\"\n",
    "canvas.css_height = \"auto\"\n",
    "\n",
    "canvas.set_image(image)\n",
    "patch = np.full((10, 10, 4), [255, 0, 0, 255], dtype=np.uint8)\n",
    "canvas.set_patch(25, 5, 10, 10, patch)\n",
    "display(canvas)\n",
    "\n",
    "import random\n",
    "import ipywidgets as W\n",
    "import time\n",
    "\n",
    "def update_and_draw_random_patch(b):   \n",
    "\n",
    "    #with canvas.hold():\n",
    "    for i in range(2):\n",
    "        \n",
    "        # Draw a random colored patch at random position\n",
    "        patch_size = random.randint(5, 15)\n",
    "        x = random.randint(0, canvas.width - patch_size)\n",
    "        y = random.randint(0, canvas.height - patch_size)\n",
    "        \n",
    "        # Random color\n",
    "        color = [random.randint(0, 255), random.randint(0, 255), random.randint(0, 255), 255]\n",
    "        patch = np.full((patch_size, patch_size, 4), color, dtype=np.uint8)\n",
    "        \n",
    "        canvas.set_patch(x, y, patch_size, patch_size, patch)\n",
    "        print(f\"Drew {patch_size}x{patch_size} patch at ({x}, {y}) with color {color[:3]}\")\n",
    "        \n",
    "# Create the button\n",
    "update_button = W.Button(description=\"Update & Draw Random Patch\")\n",
    "update_button.on_click(update_and_draw_random_patch)\n",
    "\n",
    "display(update_button)\n",
    "\n",
    "canvas.observe(print, \"mouse_enter\")\n",
    "canvas.observe(print, \"mouse_leave\")\n",
    "canvas.observe(print, \"mouse_click\")\n",
    "canvas.observe(print, \"mouse_drag\")\n",
    "canvas.observe(print, \"mouse_down\")\n",
    "canvas.observe(print, \"mouse_up\")\n"
   ]
  },
  {
   "cell_type": "code",
   "execution_count": 2,
   "metadata": {},
   "outputs": [
    {
     "data": {
      "application/vnd.jupyter.widget-view+json": {
       "model_id": "10277187cf47454ca3fa491ef61bbaf3",
       "version_major": 2,
       "version_minor": 1
      },
      "text/plain": [
       "MultiCanvas(width=32, height=32, layers=1)"
      ]
     },
     "metadata": {},
     "output_type": "display_data"
    }
   ],
   "source": [
    "from ipymlwidgets.widgets import Image\n",
    "from ipymlwidgets.utils import demo_image\n",
    "\n",
    "\n",
    "image = Image(demo_image())\n",
    "image[10:20, 10:20] = [255, 0, 0, 255]\n",
    "image.css_width = \"20%\"\n",
    "image.css_height = \"auto\"\n",
    "display(image)"
   ]
  },
  {
   "cell_type": "code",
   "execution_count": 2,
   "metadata": {},
   "outputs": [
    {
     "data": {
      "application/vnd.jupyter.widget-view+json": {
       "model_id": "d29773ac39f7475cbee14e5d5fbfe0ea",
       "version_major": 2,
       "version_minor": 1
      },
      "text/plain": [
       "MultiCanvas(width=32, height=32, layers=2)"
      ]
     },
     "metadata": {},
     "output_type": "display_data"
    }
   ],
   "source": [
    "from ipymlwidgets.widgets import Canvas\n",
    "from ipymlwidgets.utils import demo_image\n",
    "import numpy as np\n",
    "\n",
    "image = demo_image()\n",
    "canvas = Canvas(width=image.shape[1], height=image.shape[0], layers=2)\n",
    "\n",
    "image[...,-1] = 100\n",
    "image = np.random.randint(0, 255, image.shape, dtype=np.uint8)\n",
    "image[...,-1] = 100\n",
    "\n",
    "canvas.set_image(np.ones_like(image) * np.array([255, 0, 0, 255], dtype=np.uint8), layer=0)\n",
    "canvas.set_image(image, layer=1)\n",
    "\n",
    "canvas.css_width = \"50%\"\n",
    "canvas.css_height = \"auto\"\n",
    "\n",
    "\n",
    "display(canvas)\n",
    "\n",
    "canvas.observe(print, \"mouse_click\")\n",
    "\n",
    "canvas.draw_rect(xyxy=(10, 10, 20, 20), color=\"black\", thickness=2)\n"
   ]
  }
 ],
 "metadata": {
  "kernelspec": {
   "display_name": ".venv",
   "language": "python",
   "name": "python3"
  },
  "language_info": {
   "codemirror_mode": {
    "name": "ipython",
    "version": 3
   },
   "file_extension": ".py",
   "mimetype": "text/x-python",
   "name": "python",
   "nbconvert_exporter": "python",
   "pygments_lexer": "ipython3",
   "version": "3.10.12"
  }
 },
 "nbformat": 4,
 "nbformat_minor": 2
}
