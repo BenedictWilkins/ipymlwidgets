{
 "cells": [
  {
   "cell_type": "code",
   "execution_count": 1,
   "metadata": {},
   "outputs": [
    {
     "data": {
      "application/vnd.jupyter.widget-view+json": {
       "model_id": "ce0f0a3a34314dc5ab9b46b66d4be631",
       "version_major": 2,
       "version_minor": 1
      },
      "text/plain": [
       "Canvas(width=32, height=32)"
      ]
     },
     "metadata": {},
     "output_type": "display_data"
    },
    {
     "data": {
      "application/vnd.jupyter.widget-view+json": {
       "model_id": "7315171c2aa340c088b2a1e97b1a541c",
       "version_major": 2,
       "version_minor": 0
      },
      "text/plain": [
       "Button(description='Update & Draw Random Patch', style=ButtonStyle())"
      ]
     },
     "metadata": {},
     "output_type": "display_data"
    },
    {
     "name": "stdout",
     "output_type": "stream",
     "text": [
      "{'name': 'client_size', 'old': (0, 0), 'new': (91, 91), 'owner': Canvas(width=32, height=32), 'type': 'change'}\n",
      "{'name': 'mouse_enter', 'old': {}, 'new': {'x': 31, 'y': 14, 'x_client': 88, 'y_client': 41, 'w_client': 90.796875, 'h_client': 90.796875, 'w': 32, 'h': 32}, 'owner': Canvas(width=32, height=32), 'type': 'change'}\n",
      "{'name': 'mouse_leave', 'old': {}, 'new': {'x': 32, 'y': 11, 'x_client': 92, 'y_client': 33, 'w_client': 90.796875, 'h_client': 90.796875, 'w': 32, 'h': 32}, 'owner': Canvas(width=32, height=32), 'type': 'change'}\n",
      "{'name': 'mouse_enter', 'old': {'x': 31, 'y': 14, 'x_client': 88, 'y_client': 41, 'w_client': 90.796875, 'h_client': 90.796875, 'w': 32, 'h': 32}, 'new': {'x': 30, 'y': 20, 'x_client': 86, 'y_client': 57, 'w_client': 90.796875, 'h_client': 90.796875, 'w': 32, 'h': 32}, 'owner': Canvas(width=32, height=32), 'type': 'change'}\n",
      "{'name': 'mouse_down', 'old': {}, 'new': {'x': 4, 'y': 11, 'x_client': 14, 'y_client': 34, 'w_client': 90.796875, 'h_client': 90.796875, 'w': 32, 'h': 32}, 'owner': Canvas(width=32, height=32), 'type': 'change'}\n",
      "{'name': 'mouse_drag', 'old': {}, 'new': {'x': 5, 'y': 12, 'x_client': 17, 'y_client': 35, 'w_client': 90.796875, 'h_client': 90.796875, 'w': 32, 'h': 32, 'x_start': 4, 'y_start': 11}, 'owner': Canvas(width=32, height=32), 'type': 'change'}\n",
      "{'name': 'mouse_drag', 'old': {'x': 5, 'y': 12, 'x_client': 17, 'y_client': 35, 'w_client': 90.796875, 'h_client': 90.796875, 'w': 32, 'h': 32, 'x_start': 4, 'y_start': 11}, 'new': {'x': 7, 'y': 12, 'x_client': 20, 'y_client': 36, 'w_client': 90.796875, 'h_client': 90.796875, 'w': 32, 'h': 32, 'x_start': 4, 'y_start': 11}, 'owner': Canvas(width=32, height=32), 'type': 'change'}\n",
      "{'name': 'mouse_drag', 'old': {'x': 7, 'y': 12, 'x_client': 20, 'y_client': 36, 'w_client': 90.796875, 'h_client': 90.796875, 'w': 32, 'h': 32, 'x_start': 4, 'y_start': 11}, 'new': {'x': 7, 'y': 13, 'x_client': 22, 'y_client': 37, 'w_client': 90.796875, 'h_client': 90.796875, 'w': 32, 'h': 32, 'x_start': 4, 'y_start': 11}, 'owner': Canvas(width=32, height=32), 'type': 'change'}\n",
      "{'name': 'mouse_drag', 'old': {'x': 7, 'y': 13, 'x_client': 22, 'y_client': 37, 'w_client': 90.796875, 'h_client': 90.796875, 'w': 32, 'h': 32, 'x_start': 4, 'y_start': 11}, 'new': {'x': 9, 'y': 14, 'x_client': 27, 'y_client': 40, 'w_client': 90.796875, 'h_client': 90.796875, 'w': 32, 'h': 32, 'x_start': 4, 'y_start': 11}, 'owner': Canvas(width=32, height=32), 'type': 'change'}\n",
      "{'name': 'mouse_drag', 'old': {'x': 9, 'y': 14, 'x_client': 27, 'y_client': 40, 'w_client': 90.796875, 'h_client': 90.796875, 'w': 32, 'h': 32, 'x_start': 4, 'y_start': 11}, 'new': {'x': 11, 'y': 14, 'x_client': 32, 'y_client': 42, 'w_client': 90.796875, 'h_client': 90.796875, 'w': 32, 'h': 32, 'x_start': 4, 'y_start': 11}, 'owner': Canvas(width=32, height=32), 'type': 'change'}\n",
      "{'name': 'mouse_drag', 'old': {'x': 11, 'y': 14, 'x_client': 32, 'y_client': 42, 'w_client': 90.796875, 'h_client': 90.796875, 'w': 32, 'h': 32, 'x_start': 4, 'y_start': 11}, 'new': {'x': 13, 'y': 16, 'x_client': 37, 'y_client': 46, 'w_client': 90.796875, 'h_client': 90.796875, 'w': 32, 'h': 32, 'x_start': 4, 'y_start': 11}, 'owner': Canvas(width=32, height=32), 'type': 'change'}\n",
      "{'name': 'mouse_drag', 'old': {'x': 13, 'y': 16, 'x_client': 37, 'y_client': 46, 'w_client': 90.796875, 'h_client': 90.796875, 'w': 32, 'h': 32, 'x_start': 4, 'y_start': 11}, 'new': {'x': 14, 'y': 16, 'x_client': 41, 'y_client': 48, 'w_client': 90.796875, 'h_client': 90.796875, 'w': 32, 'h': 32, 'x_start': 4, 'y_start': 11}, 'owner': Canvas(width=32, height=32), 'type': 'change'}\n",
      "{'name': 'mouse_drag', 'old': {'x': 14, 'y': 16, 'x_client': 41, 'y_client': 48, 'w_client': 90.796875, 'h_client': 90.796875, 'w': 32, 'h': 32, 'x_start': 4, 'y_start': 11}, 'new': {'x': 15, 'y': 17, 'x_client': 43, 'y_client': 49, 'w_client': 90.796875, 'h_client': 90.796875, 'w': 32, 'h': 32, 'x_start': 4, 'y_start': 11}, 'owner': Canvas(width=32, height=32), 'type': 'change'}\n",
      "{'name': 'mouse_drag', 'old': {'x': 15, 'y': 17, 'x_client': 43, 'y_client': 49, 'w_client': 90.796875, 'h_client': 90.796875, 'w': 32, 'h': 32, 'x_start': 4, 'y_start': 11}, 'new': {'x': 16, 'y': 17, 'x_client': 47, 'y_client': 51, 'w_client': 90.796875, 'h_client': 90.796875, 'w': 32, 'h': 32, 'x_start': 4, 'y_start': 11}, 'owner': Canvas(width=32, height=32), 'type': 'change'}\n",
      "{'name': 'mouse_drag', 'old': {'x': 16, 'y': 17, 'x_client': 47, 'y_client': 51, 'w_client': 90.796875, 'h_client': 90.796875, 'w': 32, 'h': 32, 'x_start': 4, 'y_start': 11}, 'new': {'x': 17, 'y': 18, 'x_client': 49, 'y_client': 52, 'w_client': 90.796875, 'h_client': 90.796875, 'w': 32, 'h': 32, 'x_start': 4, 'y_start': 11}, 'owner': Canvas(width=32, height=32), 'type': 'change'}\n",
      "{'name': 'mouse_drag', 'old': {'x': 17, 'y': 18, 'x_client': 49, 'y_client': 52, 'w_client': 90.796875, 'h_client': 90.796875, 'w': 32, 'h': 32, 'x_start': 4, 'y_start': 11}, 'new': {'x': 17, 'y': 19, 'x_client': 51, 'y_client': 54, 'w_client': 90.796875, 'h_client': 90.796875, 'w': 32, 'h': 32, 'x_start': 4, 'y_start': 11}, 'owner': Canvas(width=32, height=32), 'type': 'change'}\n",
      "{'name': 'mouse_drag', 'old': {'x': 17, 'y': 19, 'x_client': 51, 'y_client': 54, 'w_client': 90.796875, 'h_client': 90.796875, 'w': 32, 'h': 32, 'x_start': 4, 'y_start': 11}, 'new': {'x': 18, 'y': 19, 'x_client': 52, 'y_client': 55, 'w_client': 90.796875, 'h_client': 90.796875, 'w': 32, 'h': 32, 'x_start': 4, 'y_start': 11}, 'owner': Canvas(width=32, height=32), 'type': 'change'}\n",
      "{'name': 'mouse_up', 'old': {}, 'new': {'x': 18, 'y': 19, 'x_client': 52, 'y_client': 55, 'w_client': 90.796875, 'h_client': 90.796875, 'w': 32, 'h': 32}, 'owner': Canvas(width=32, height=32), 'type': 'change'}\n",
      "{'name': 'mouse_leave', 'old': {'x': 32, 'y': 11, 'x_client': 92, 'y_client': 33, 'w_client': 90.796875, 'h_client': 90.796875, 'w': 32, 'h': 32}, 'new': {'x': 31, 'y': 32, 'x_client': 89, 'y_client': 92, 'w_client': 90.796875, 'h_client': 90.796875, 'w': 32, 'h': 32}, 'owner': Canvas(width=32, height=32), 'type': 'change'}\n"
     ]
    }
   ],
   "source": [
    "from ipymlwidgets.widgets import Canvas\n",
    "from ipymlwidgets.utils import demo_image\n",
    "import numpy as np\n",
    "\n",
    "image = demo_image()\n",
    "canvas = Canvas(width=image.shape[1], height=image.shape[0])\n",
    "canvas.observe(print, \"client_size\")\n",
    "canvas.css_width = \"10%\"\n",
    "canvas.css_height = \"auto\"\n",
    "\n",
    "canvas.set_image(image)\n",
    "patch = np.full((10, 10, 4), [255, 0, 0, 255], dtype=np.uint8)\n",
    "canvas.set_patch(25, 5, 10, 10, patch)\n",
    "display(canvas)\n",
    "\n",
    "import random\n",
    "import ipywidgets as W\n",
    "import time\n",
    "\n",
    "def update_and_draw_random_patch(b):   \n",
    "\n",
    "    #with canvas.hold():\n",
    "    for i in range(2):\n",
    "        \n",
    "        # Draw a random colored patch at random position\n",
    "        patch_size = random.randint(5, 15)\n",
    "        x = random.randint(0, canvas.width - patch_size)\n",
    "        y = random.randint(0, canvas.height - patch_size)\n",
    "        \n",
    "        # Random color\n",
    "        color = [random.randint(0, 255), random.randint(0, 255), random.randint(0, 255), 255]\n",
    "        patch = np.full((patch_size, patch_size, 4), color, dtype=np.uint8)\n",
    "        \n",
    "        canvas.set_patch(x, y, patch_size, patch_size, patch)\n",
    "        print(f\"Drew {patch_size}x{patch_size} patch at ({x}, {y}) with color {color[:3]}\")\n",
    "            \n",
    "# Create the button\n",
    "update_button = W.Button(description=\"Update & Draw Random Patch\")\n",
    "update_button.on_click(update_and_draw_random_patch)\n",
    "\n",
    "display(update_button)\n",
    "\n",
    "canvas.observe(print, \"mouse_enter\")\n",
    "canvas.observe(print, \"mouse_leave\")\n",
    "canvas.observe(print, \"mouse_click\")\n",
    "canvas.observe(print, \"mouse_drag\")\n",
    "canvas.observe(print, \"mouse_down\")\n",
    "canvas.observe(print, \"mouse_up\")\n"
   ]
  },
  {
   "cell_type": "code",
   "execution_count": null,
   "metadata": {},
   "outputs": [],
   "source": [
    "from ipymlwidgets.widgets import Image\n",
    "from ipymlwidgets.utils import demo_image\n",
    "\n",
    "\n",
    "image = Image(demo_image())\n",
    "image[10:20, 10:20] = [255, 0, 0, 255]\n",
    "image.observe(print, \"client_size\")\n",
    "image.css_width = \"50%\"\n",
    "image.css_height = \"auto\"\n",
    "\n",
    "display(image)\n",
    "\n",
    "\n"
   ]
  }
 ],
 "metadata": {
  "kernelspec": {
   "display_name": ".venv",
   "language": "python",
   "name": "python3"
  },
  "language_info": {
   "codemirror_mode": {
    "name": "ipython",
    "version": 3
   },
   "file_extension": ".py",
   "mimetype": "text/x-python",
   "name": "python",
   "nbconvert_exporter": "python",
   "pygments_lexer": "ipython3",
   "version": "3.10.12"
  }
 },
 "nbformat": 4,
 "nbformat_minor": 2
}
