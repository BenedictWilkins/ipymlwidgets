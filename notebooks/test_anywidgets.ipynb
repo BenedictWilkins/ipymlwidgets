{
 "cells": [
  {
   "cell_type": "code",
   "execution_count": 5,
   "metadata": {},
   "outputs": [
    {
     "data": {
      "application/vnd.jupyter.widget-view+json": {
       "model_id": "4425ced532d94c2aa1f559571df90ccd",
       "version_major": 2,
       "version_minor": 1
      },
      "text/plain": [
       "Image(client_size=(0, 0), css_width='50%', height=32, width=32)"
      ]
     },
     "metadata": {},
     "output_type": "display_data"
    },
    {
     "name": "stdout",
     "output_type": "stream",
     "text": [
      "{'name': 'client_size', 'old': (0, 0), 'new': (392, 392), 'owner': Image(client_size=(392, 392), css_width='50%', height=32, width=32), 'type': 'change'}\n"
     ]
    }
   ],
   "source": [
    "from ipymlwidgets.widgets import Image\n",
    "from ipymlwidgets.utils import demo_image\n",
    "\n",
    "\n",
    "image = Image(demo_image())\n",
    "\n",
    "image[10:20, 10:20] = [255, 0, 0]\n",
    "\n",
    "image.observe(print, \"client_size\")\n",
    "\n",
    "image.css_width = \"50%\"\n",
    "image.css_height = \"auto\"\n",
    "\n",
    "display(image)\n"
   ]
  }
 ],
 "metadata": {
  "kernelspec": {
   "display_name": ".venv",
   "language": "python",
   "name": "python3"
  },
  "language_info": {
   "codemirror_mode": {
    "name": "ipython",
    "version": 3
   },
   "file_extension": ".py",
   "mimetype": "text/x-python",
   "name": "python",
   "nbconvert_exporter": "python",
   "pygments_lexer": "ipython3",
   "version": "3.10.12"
  }
 },
 "nbformat": 4,
 "nbformat_minor": 2
}
