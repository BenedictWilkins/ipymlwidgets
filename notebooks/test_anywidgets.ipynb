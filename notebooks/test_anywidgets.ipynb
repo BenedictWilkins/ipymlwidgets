{
 "cells": [
  {
   "cell_type": "code",
   "execution_count": null,
   "metadata": {},
   "outputs": [],
   "source": [
    "from ipymlwidgets.widgets import Canvas\n",
    "from ipymlwidgets.utils import demo_image\n",
    "import numpy as np\n",
    "\n",
    "image = demo_image()\n",
    "canvas = Canvas(width=image.shape[1], height=image.shape[0])\n",
    "canvas.observe(print, \"client_size\")\n",
    "canvas.css_width = \"10%\"\n",
    "canvas.css_height = \"auto\"\n",
    "\n",
    "canvas.set_image(image)\n",
    "patch = np.full((10, 10, 4), [255, 0, 0, 255], dtype=np.uint8)\n",
    "canvas.set_patch(25, 5, 10, 10, patch)\n",
    "display(canvas)\n",
    "\n",
    "import random\n",
    "import ipywidgets as W\n",
    "import time\n",
    "\n",
    "def update_and_draw_random_patch(b):   \n",
    "\n",
    "    #with canvas.hold():\n",
    "    for i in range(2):\n",
    "        \n",
    "        # Draw a random colored patch at random position\n",
    "        patch_size = random.randint(5, 15)\n",
    "        x = random.randint(0, canvas.width - patch_size)\n",
    "        y = random.randint(0, canvas.height - patch_size)\n",
    "        \n",
    "        # Random color\n",
    "        color = [random.randint(0, 255), random.randint(0, 255), random.randint(0, 255), 255]\n",
    "        patch = np.full((patch_size, patch_size, 4), color, dtype=np.uint8)\n",
    "        \n",
    "        canvas.set_patch(x, y, patch_size, patch_size, patch)\n",
    "        print(f\"Drew {patch_size}x{patch_size} patch at ({x}, {y}) with color {color[:3]}\")\n",
    "        \n",
    "# Create the button\n",
    "update_button = W.Button(description=\"Update & Draw Random Patch\")\n",
    "update_button.on_click(update_and_draw_random_patch)\n",
    "\n",
    "display(update_button)\n",
    "\n",
    "canvas.observe(print, \"mouse_enter\")\n",
    "canvas.observe(print, \"mouse_leave\")\n",
    "canvas.observe(print, \"mouse_click\")\n",
    "canvas.observe(print, \"mouse_drag\")\n",
    "canvas.observe(print, \"mouse_down\")\n",
    "canvas.observe(print, \"mouse_up\")\n"
   ]
  },
  {
   "cell_type": "code",
   "execution_count": null,
   "metadata": {},
   "outputs": [],
   "source": [
    "from ipymlwidgets.widgets import Image\n",
    "from ipymlwidgets.utils import demo_image\n",
    "import numpy as np\n",
    "\n",
    "image = demo_image()\n",
    "widget = Image(image)\n",
    "widget[10:20, 10:20] = [255, 0, 0, 255]\n",
    "widget.css_width = \"20%\"\n",
    "widget.css_height = \"auto\"\n",
    "\n",
    "image = np.ones_like(image) * np.array([255, 0, 0, 255], dtype=np.uint8)\n",
    "\n",
    "widget.set_image(image, layer=0)\n",
    "display(widget)"
   ]
  },
  {
   "cell_type": "code",
   "execution_count": null,
   "metadata": {},
   "outputs": [],
   "source": [
    "from ipymlwidgets.widgets import Canvas\n",
    "from ipymlwidgets.utils import demo_image\n",
    "import numpy as np\n",
    "\n",
    "image = demo_image()\n",
    "canvas = Canvas(width=image.shape[1], height=image.shape[0], layers=2)\n",
    "\n",
    "image[...,-1] = 100\n",
    "image = np.random.randint(0, 255, image.shape, dtype=np.uint8)\n",
    "image[...,-1] = 100\n",
    "\n",
    "canvas.set_image(np.ones_like(image) * np.array([255, 0, 0, 255], dtype=np.uint8), layer=0)\n",
    "canvas.set_image(image, layer=1)\n",
    "\n",
    "canvas.css_width = \"50%\"\n",
    "canvas.css_height = \"auto\"\n",
    "\n",
    "\n",
    "display(canvas)\n",
    "\n",
    "canvas.observe(print, \"mouse_click\")\n",
    "\n",
    "canvas.stroke_color = \"black\"\n",
    "canvas.stroke_width = 2\n",
    "canvas.draw_rect(np.array([[10, 10, 20, 20]]))\n",
    "\n",
    "\n"
   ]
  },
  {
   "cell_type": "code",
   "execution_count": null,
   "metadata": {},
   "outputs": [],
   "source": [
    "from ipymlwidgets.widgets import ImageOCR\n",
    "from ipymlwidgets.utils import demo_image\n",
    "import numpy as np\n",
    "\n",
    "image = demo_image()\n",
    "image_ocr = ImageOCR(image, boxes=np.array([[0,0, 20, 20]]), texts=[\"Hello\"])\n",
    "image_ocr.image_widget.css_width = \"50%\"\n",
    "\n",
    "display(image_ocr)"
   ]
  },
  {
   "cell_type": "code",
   "execution_count": 2,
   "metadata": {},
   "outputs": [
    {
     "name": "stdout",
     "output_type": "stream",
     "text": [
      "(512, 512, 4)\n"
     ]
    },
    {
     "data": {
      "application/vnd.jupyter.widget-view+json": {
       "model_id": "807f833627d2489d983afbd90ac2a240",
       "version_major": 2,
       "version_minor": 1
      },
      "text/plain": [
       "MultiCanvas((512, 512), layers=3)"
      ]
     },
     "metadata": {},
     "output_type": "display_data"
    },
    {
     "data": {
      "application/vnd.jupyter.widget-view+json": {
       "model_id": "503b6c010b9a473fa72c343a92fb472e",
       "version_major": 2,
       "version_minor": 0
      },
      "text/plain": [
       "HTML(value='')"
      ]
     },
     "metadata": {},
     "output_type": "display_data"
    },
    {
     "name": "stdout",
     "output_type": "stream",
     "text": [
      "[0 0 8 8] 97 74\n",
      "[97] [-89] [74] [-66]\n",
      "inside [False]\n",
      "[[  0   0   8   8]\n",
      " [ 97  74 207 178]]\n",
      "[0 0 8 8] 102 171\n",
      "[102   5] [-94 105] [171  97] [-163    7]\n",
      "inside [False  True]\n",
      "[False  True] [False False] [False False] [False  True]\n",
      "[[  0   0   8   8]\n",
      " [110  74 207 118]]\n",
      "[0 0 8 8] 116 82\n",
      "[116   6] [-108   91] [82  8] [-74  36]\n",
      "inside [False  True]\n",
      "[False  True] [False False] [False  True] [False False]\n",
      "[[  0   0   8   8]\n",
      " [ 60  47 207 118]]\n",
      "[0 0 8 8] 202 53\n",
      "[202 142] [-194    5] [53  6] [-45  65]\n",
      "inside [False  True]\n",
      "[False False] [False  True] [False  True] [False False]\n",
      "[[  0   0   8   8]\n",
      " [ 60  68 181 118]]\n",
      "[0 0 8 8] 176 112\n",
      "[176 116] [-168    5] [112  44] [-104    6]\n",
      "inside [False  True]\n",
      "[False False] [False  True] [False False] [False  True]\n",
      "[[  0   0   8   8]\n",
      " [ 60  68 246 203]]\n",
      "[0 0 8 8] 241 116\n",
      "[241 181] [-233    5] [116  48] [-108   87]\n",
      "inside [False  True]\n",
      "[False False] [False  True] [False False] [False False]\n",
      "[[  0   0   8   8]\n",
      " [ 60  68 202 203]]\n"
     ]
    }
   ],
   "source": [
    "from ipymlwidgets.widgets import ImageAnnotated\n",
    "from ipymlwidgets.utils import demo_image\n",
    "from PIL import Image \n",
    "import numpy as np\n",
    "import ipywidgets as W\n",
    "\n",
    "image = np.array(Image.fromarray(demo_image()).resize((512,512)))\n",
    "print(image.shape)\n",
    "widget = ImageAnnotated(image, boxes=np.array([[0,0, 8,8]]), texts=[\"Hello\"])\n",
    "widget.css_width = \"100%\"\n",
    "display(widget)\n",
    "\n",
    "message = W.HTML(value=\"\")\n",
    "def update_message(x):  \n",
    "    message.value = f\"{x['new']}\"\n",
    "widget.observe(update_message, \"mouse_drag\")\n",
    "display(message)\n",
    "widget.observe(lambda x: print(x['new']), \"boxes\")"
   ]
  },
  {
   "cell_type": "code",
   "execution_count": null,
   "metadata": {},
   "outputs": [],
   "source": []
  },
  {
   "cell_type": "code",
   "execution_count": null,
   "metadata": {},
   "outputs": [],
   "source": []
  },
  {
   "cell_type": "code",
   "execution_count": null,
   "metadata": {},
   "outputs": [],
   "source": []
  }
 ],
 "metadata": {
  "kernelspec": {
   "display_name": "Python 3 (ipykernel)",
   "language": "python",
   "name": "python3"
  },
  "language_info": {
   "codemirror_mode": {
    "name": "ipython",
    "version": 3
   },
   "file_extension": ".py",
   "mimetype": "text/x-python",
   "name": "python",
   "nbconvert_exporter": "python",
   "pygments_lexer": "ipython3",
   "version": "3.10.12"
  }
 },
 "nbformat": 4,
 "nbformat_minor": 4
}
