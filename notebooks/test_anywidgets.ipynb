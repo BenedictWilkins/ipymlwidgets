{
 "cells": [
  {
   "cell_type": "code",
   "execution_count": 6,
   "metadata": {},
   "outputs": [
    {
     "data": {
      "application/vnd.jupyter.widget-view+json": {
       "model_id": "9af7895c5907440088f454517c1e9ab7",
       "version_major": 2,
       "version_minor": 1
      },
      "text/plain": [
       "Canvas(client_size=(0, 0), css_width='10%', height=32, width=32)"
      ]
     },
     "metadata": {},
     "output_type": "display_data"
    },
    {
     "data": {
      "application/vnd.jupyter.widget-view+json": {
       "model_id": "9358e419e2bd468a8968f984048724b8",
       "version_major": 2,
       "version_minor": 0
      },
      "text/plain": [
       "Button(description='Update & Draw Random Patch', style=ButtonStyle())"
      ]
     },
     "metadata": {},
     "output_type": "display_data"
    },
    {
     "name": "stdout",
     "output_type": "stream",
     "text": [
      "{'name': 'client_size', 'old': (0, 0), 'new': (91, 91), 'owner': Canvas(client_size=(91, 91), css_width='10%', height=32, width=32), 'type': 'change'}\n",
      "Drew 12x12 patch at (18, 1) with color [179, 131, 152]\n",
      "Drew 10x10 patch at (0, 13) with color [106, 247, 41]\n",
      "Drew 12x12 patch at (2, 3) with color [114, 156, 156]\n",
      "Drew 6x6 patch at (1, 6) with color [221, 68, 194]\n",
      "Drew 7x7 patch at (19, 11) with color [58, 254, 225]\n",
      "Drew 7x7 patch at (17, 6) with color [235, 81, 121]\n",
      "Drew 13x13 patch at (16, 11) with color [247, 212, 104]\n",
      "Drew 13x13 patch at (10, 10) with color [133, 50, 126]\n",
      "Drew 5x5 patch at (16, 11) with color [184, 198, 56]\n",
      "Drew 14x14 patch at (18, 8) with color [18, 253, 195]\n",
      "Drew 11x11 patch at (19, 16) with color [217, 203, 163]\n",
      "Drew 11x11 patch at (8, 2) with color [50, 100, 80]\n",
      "Drew 9x9 patch at (5, 23) with color [137, 191, 245]\n",
      "Drew 7x7 patch at (16, 12) with color [201, 87, 251]\n",
      "Drew 10x10 patch at (14, 14) with color [90, 70, 107]\n",
      "Drew 9x9 patch at (0, 0) with color [158, 77, 137]\n",
      "Drew 12x12 patch at (13, 17) with color [243, 73, 126]\n",
      "Drew 9x9 patch at (6, 15) with color [56, 245, 205]\n",
      "Drew 13x13 patch at (2, 5) with color [166, 125, 49]\n",
      "Drew 15x15 patch at (0, 7) with color [10, 126, 219]\n",
      "Drew 7x7 patch at (25, 13) with color [23, 204, 6]\n",
      "Drew 10x10 patch at (2, 3) with color [129, 44, 205]\n",
      "Drew 9x9 patch at (11, 20) with color [232, 141, 240]\n",
      "Drew 15x15 patch at (4, 10) with color [175, 20, 63]\n",
      "Drew 12x12 patch at (10, 20) with color [38, 110, 23]\n",
      "Drew 9x9 patch at (1, 13) with color [11, 87, 225]\n"
     ]
    }
   ],
   "source": [
    "from ipymlwidgets.widgets import Canvas\n",
    "from ipymlwidgets.utils import demo_image\n",
    "import numpy as np\n",
    "\n",
    "image = demo_image()\n",
    "canvas = Canvas(width=image.shape[1], height=image.shape[0])\n",
    "canvas.observe(print, \"client_size\")\n",
    "canvas.css_width = \"10%\"\n",
    "canvas.css_height = \"auto\"\n",
    "\n",
    "canvas.set_image(image)\n",
    "patch = np.full((10, 10, 4), [255, 0, 0, 255], dtype=np.uint8)\n",
    "canvas.set_patch(25, 5, 10, 10, patch)\n",
    "display(canvas)\n",
    "\n",
    "import random\n",
    "import ipywidgets as W\n",
    "\n",
    "def update_and_draw_random_patch(b):    \n",
    "    # Draw a random colored patch at random position\n",
    "    patch_size = random.randint(5, 15)\n",
    "    x = random.randint(0, canvas.width - patch_size)\n",
    "    y = random.randint(0, canvas.height - patch_size)\n",
    "    \n",
    "    # Random color\n",
    "    color = [random.randint(0, 255), random.randint(0, 255), random.randint(0, 255), 255]\n",
    "    patch = np.full((patch_size, patch_size, 4), color, dtype=np.uint8)\n",
    "    \n",
    "    canvas.set_patch(x, y, patch_size, patch_size, patch)\n",
    "    print(f\"Drew {patch_size}x{patch_size} patch at ({x}, {y}) with color {color[:3]}\")\n",
    "\n",
    "# Create the button\n",
    "update_button = W.Button(description=\"Update & Draw Random Patch\")\n",
    "update_button.on_click(update_and_draw_random_patch)\n",
    "\n",
    "display(update_button)"
   ]
  },
  {
   "cell_type": "code",
   "execution_count": null,
   "metadata": {},
   "outputs": [],
   "source": [
    "from ipymlwidgets.widgets import Image\n",
    "from ipymlwidgets.utils import demo_image\n",
    "\n",
    "\n",
    "image = Image(demo_image())\n",
    "image[10:20, 10:20] = [255, 0, 0, 255]\n",
    "image.observe(print, \"client_size\")\n",
    "image.css_width = \"50%\"\n",
    "image.css_height = \"auto\"\n",
    "\n",
    "display(image)\n",
    "\n",
    "\n"
   ]
  }
 ],
 "metadata": {
  "kernelspec": {
   "display_name": ".venv",
   "language": "python",
   "name": "python3"
  },
  "language_info": {
   "codemirror_mode": {
    "name": "ipython",
    "version": 3
   },
   "file_extension": ".py",
   "mimetype": "text/x-python",
   "name": "python",
   "nbconvert_exporter": "python",
   "pygments_lexer": "ipython3",
   "version": "3.10.12"
  }
 },
 "nbformat": 4,
 "nbformat_minor": 2
}
