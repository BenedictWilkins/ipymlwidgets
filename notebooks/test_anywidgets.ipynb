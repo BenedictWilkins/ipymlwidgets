{
 "cells": [
  {
   "cell_type": "code",
   "execution_count": 1,
   "metadata": {},
   "outputs": [
    {
     "data": {
      "application/vnd.jupyter.widget-view+json": {
       "model_id": "2b422b581e794635bb967cd2142dbe04",
       "version_major": 2,
       "version_minor": 1
      },
      "text/plain": [
       "Image(client_size=(0, 0), css_width='50%', height=32, width=32)"
      ]
     },
     "metadata": {},
     "output_type": "display_data"
    },
    {
     "name": "stdout",
     "output_type": "stream",
     "text": [
      "{'name': 'client_size', 'old': (0, 0), 'new': (392, 392), 'owner': Image(client_size=(392, 392), css_width='50%', height=32, width=32), 'type': 'change'}\n"
     ]
    }
   ],
   "source": [
    "from ipymlwidgets.widgets import Image\n",
    "from ipymlwidgets.utils import demo_image\n",
    "\n",
    "\n",
    "image = Image(demo_image())\n",
    "image[10:20, 10:20] = [255, 0, 0]\n",
    "image.observe(print, \"client_size\")\n",
    "image.css_width = \"50%\"\n",
    "image.css_height = \"auto\"\n",
    "display(image)\n"
   ]
  },
  {
   "cell_type": "code",
   "execution_count": 2,
   "metadata": {},
   "outputs": [
    {
     "ename": "ImportError",
     "evalue": "cannot import name 'Canvas' from 'ipymlwidgets.widgets' (/home/ben/Documents/repos/ipymlwidgets/src/ipymlwidgets/widgets/__init__.py)",
     "output_type": "error",
     "traceback": [
      "\u001b[0;31m---------------------------------------------------------------------------\u001b[0m",
      "\u001b[0;31mImportError\u001b[0m                               Traceback (most recent call last)",
      "Cell \u001b[0;32mIn[2], line 1\u001b[0m\n\u001b[0;32m----> 1\u001b[0m \u001b[38;5;28;01mfrom\u001b[39;00m\u001b[38;5;250m \u001b[39m\u001b[38;5;21;01mipymlwidgets\u001b[39;00m\u001b[38;5;21;01m.\u001b[39;00m\u001b[38;5;21;01mwidgets\u001b[39;00m\u001b[38;5;250m \u001b[39m\u001b[38;5;28;01mimport\u001b[39;00m Canvas\n\u001b[1;32m      2\u001b[0m \u001b[38;5;28;01mfrom\u001b[39;00m\u001b[38;5;250m \u001b[39m\u001b[38;5;21;01mipymlwidgets\u001b[39;00m\u001b[38;5;21;01m.\u001b[39;00m\u001b[38;5;21;01mutils\u001b[39;00m\u001b[38;5;250m \u001b[39m\u001b[38;5;28;01mimport\u001b[39;00m demo_image\n\u001b[1;32m      5\u001b[0m image \u001b[38;5;241m=\u001b[39m Image(demo_image())\n",
      "\u001b[0;31mImportError\u001b[0m: cannot import name 'Canvas' from 'ipymlwidgets.widgets' (/home/ben/Documents/repos/ipymlwidgets/src/ipymlwidgets/widgets/__init__.py)"
     ]
    }
   ],
   "source": [
    "from ipymlwidgets.widgets import Canvas\n",
    "from ipymlwidgets.utils import demo_image\n",
    "\n",
    "image = Canvas(demo_image())\n",
    "image[10:20, 10:20] = [255, 0, 0]\n",
    "image.observe(print, \"client_size\")\n",
    "image.css_width = \"50%\"\n",
    "image.css_height = \"auto\"\n",
    "display(image)\n"
   ]
  }
 ],
 "metadata": {
  "kernelspec": {
   "display_name": ".venv",
   "language": "python",
   "name": "python3"
  },
  "language_info": {
   "codemirror_mode": {
    "name": "ipython",
    "version": 3
   },
   "file_extension": ".py",
   "mimetype": "text/x-python",
   "name": "python",
   "nbconvert_exporter": "python",
   "pygments_lexer": "ipython3",
   "version": "3.10.12"
  }
 },
 "nbformat": 4,
 "nbformat_minor": 2
}
