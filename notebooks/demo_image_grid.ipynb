{
 "cells": [
  {
   "cell_type": "code",
   "execution_count": null,
   "id": "e976ffe0",
   "metadata": {},
   "outputs": [],
   "source": [
    "from ipymlwidgets.widgets.image.image_grid import ImageGrid\n",
    "from ipymlwidgets import Box\n",
    "import numpy as np\n",
    "import time\n",
    "import ipywidgets as W\n",
    "\n",
    "button = W.Button(description=\"Add\")\n",
    "button.on_click(lambda _: image.insert(0, np.random.randint(0,255,(10,10,3),dtype=np.uint8)))\n",
    "display(button)\n",
    "\n",
    "save_button = W.Button(description=\"Save\")\n",
    "save_button.on_click(lambda _: image.save_selected(f\"./.temp/{time.time_ns()}\"))\n",
    "display(save_button)\n",
    "\n",
    "\n",
    "info = W.Text()\n",
    "display(info)\n",
    "\n",
    "images = [np.ones((10, 10, 4),dtype=np.uint8) for _ in range(50)]\n",
    "for i,image in enumerate(images):\n",
    "    image[:,:,:-1] *= np.random.randint(0,255)\n",
    "    image[:,:,3] *= 255\n",
    "\n",
    "\n",
    "image = ImageGrid(images=images, cell_size=(8,8), rows=3)\n",
    "image_grid = Box([image], layout={\"display\": \"flex\", \"flex-direction\": \"column\", \"gap\": \"10px\", \"width\": \"50%\"})\n",
    "\n",
    "display(image_grid)\n",
    "\n",
    "img = np.random.randint(0,255,(60,20,3),dtype=np.uint8)\n",
    "image.append(img)  \n",
    "\n",
    "def update_info(change):\n",
    "    info.value = str(change['new'])\n",
    "image.observe(update_info, names=\"selected\")\n"
   ]
  }
 ],
 "metadata": {
  "kernelspec": {
   "display_name": ".venv",
   "language": "python",
   "name": "python3"
  },
  "language_info": {
   "codemirror_mode": {
    "name": "ipython",
    "version": 3
   },
   "file_extension": ".py",
   "mimetype": "text/x-python",
   "name": "python",
   "nbconvert_exporter": "python",
   "pygments_lexer": "ipython3",
   "version": "3.10.12"
  }
 },
 "nbformat": 4,
 "nbformat_minor": 5
}
