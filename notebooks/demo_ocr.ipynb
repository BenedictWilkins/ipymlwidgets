{
 "cells": [
  {
   "cell_type": "code",
   "execution_count": null,
   "id": "a14c5954",
   "metadata": {},
   "outputs": [],
   "source": [
    "from ipymlwidgets import OCRWIdget\n"
   ]
  }
 ],
 "metadata": {
  "language_info": {
   "name": "python"
  }
 },
 "nbformat": 4,
 "nbformat_minor": 5
}
