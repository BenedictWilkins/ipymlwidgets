{
 "cells": [
  {
   "cell_type": "code",
   "execution_count": null,
   "id": "a14c5954",
   "metadata": {},
   "outputs": [],
   "source": [
    "# import ipywidgets as W\n",
    "# from ipymlwidgets.traits import SupportedTensor\n",
    "# from ipymlwidgets.demo import demo_image\n",
    "# from ipymlwidgets.widgets.ocr import ItemOCR\n",
    "# from ipymlwidgets.widgets import Box, ImageAnnotated\n",
    "# from typing import Optional\n",
    "# import numpy as np\n",
    "\n",
    "# class OCRAnnotated(Box):\n",
    "#     \"\"\"A widget that supports OCR annotation in an image.\"\"\"\n",
    "\n",
    "#     def __init__(self, \n",
    "#         image : Optional[SupportedTensor] = None, \n",
    "#         boxes : Optional[SupportedTensor] = None\n",
    "#     ):\n",
    "#         self._image = ImageAnnotated(image)\n",
    "#         self._div_image = Box([self._image], layout={\"gap\": \"10px\", \"width\": \"50%\"})\n",
    "#         self._div_items = Box([], layout={\"display\": \"flex\", \"flex-direction\": \"column\", \"gap\": \"10px\", \"width\": \"50%\"})\n",
    "\n",
    "#         super().__init__([self._div_image, self._div_items], layout={\"display\": \"flex\", \"flex-direction\": \"row\", \"margin\" : \"10px\", \"gap\": \"20px\"})\n",
    "\n",
    "#         self._image.observe(self._on_boxes_change, names=\"_boxes\")\n",
    "#         self._image.observe(self._on_selection_change, names=\"_selection\")\n",
    "#         self._div_items_order = [] # list of indices of the items in the order they are displayed\n",
    "\n",
    "#         #self._image.observe(self._on_mouse_up, names=\"mouse_up\")\n",
    "#     def _on_boxes_change(self, change):\n",
    "#         old_len = len(change['old']) if change['old'] is not None else 0\n",
    "#         new_len = len(change['new'])\n",
    "#         if old_len < new_len: # a new box was added\n",
    "\n",
    "#             # TODO handle the case where boxes are assigned directly? hmm..\n",
    "#             new_box = change['new'][-1]\n",
    "#             self._div_items_order.insert(0, len(self._div_items.children))\n",
    "#             cropped = self._image.crop([-1])[0]\n",
    "#             item = ItemOCR(cropped, f\"{len(self._div_items.children)} {new_box}\")\n",
    "#             item.observe(self._on_item_close, names=\"click_close\")\n",
    "#             self._div_items.insert_child(item, 0)\n",
    "#             text.value = f\"{len(self._div_items.children)} {self._div_items_order}\"\n",
    "\n",
    "#         elif old_len > new_len: # a box was deleted\n",
    "#             pass # TODO\n",
    "#         else:\n",
    "#             # a box was updated\n",
    "#             diff = np.any(change['new'] != change['old'], axis=1)\n",
    "#             index = np.nonzero(diff)[0].tolist()\n",
    "#             crops = self._image.crop(index)\n",
    "#             for i, crop in zip(index, crops):\n",
    "#                 j = self._resolve_index(i)\n",
    "#                 item = self._div_items.children[j]\n",
    "#                 item.set_image(crop)\n",
    "#                 #self._div_items.replace_child(ItemOCR(crop, f\"{len(self._div_items.children)} {change['new'][i]}\"), j)\n",
    "\n",
    "#             #self._div_items.send_state()\n",
    "\n",
    "          \n",
    "\n",
    "            \n",
    "#             #text.value = f\"{len(self._div_items.children)} {change['new']}  {change['old']} {index}\"\n",
    "    \n",
    "#     def _on_item_close(self, change):\n",
    "#         item = change['owner']\n",
    "#         # delete the child\n",
    "#         j = self._div_items.index_child(item)\n",
    "#         i = self._div_items_order[j] # get the box index\n",
    "#         self._div_items.remove_child(item)\n",
    "#         # delete the box\n",
    "#         self._image.remove_box(i)\n",
    "\n",
    "#     def _on_selection_change(self, change):\n",
    "#         new, old = change['new'], change['old']\n",
    "#         if new is None:\n",
    "#             return # box was deselected\n",
    "#         if new.index < 0:\n",
    "#             return # box is being created - it hasnt been added yet\n",
    "#         prev = list(self._div_items_order)\n",
    "#         i, j = 0, self._resolve_index(new.index)\n",
    "#         self._swap_children(i, j)\n",
    "#         text.value = f\"{len(self._div_items.children)} {new.index} {prev} {self._div_items_order}, {self._div_items.children}\"\n",
    "\n",
    "#     def _resolve_index(self, i):\n",
    "#         # TODO this seems dumb, better would be self._div_items_order[i]!\n",
    "#         return self._div_items_order.index(i)\n",
    "\n",
    "#     def _swap_children(self, i, j):        \n",
    "#         _i, _j = self._div_items_order[i], self._div_items_order[j]\n",
    "#         self._div_items_order[j], self._div_items_order[i] = _i, _j\n",
    "#         c_i = self._div_items.children[i]\n",
    "#         c_j = self._div_items.children[j]\n",
    "#         self._div_items.children[i] = c_j\n",
    "#         self._div_items.children[j] = c_i\n",
    "#         self._div_items.send_state()\n",
    "        \n",
    "# ocr = OCRAnnotated(demo_image())\n",
    "# display(ocr)\n",
    "\n",
    "# # text = W.Text(value=\"\", layout={\"width\": \"100%\", \"height\": \"100%\", \"border\": \"none\", \"padding\": \"0\", \"margin\": \"0\"})\n",
    "# # display(text)\n",
    "\n"
   ]
  },
  {
   "cell_type": "code",
   "execution_count": null,
   "id": "bc0de76b",
   "metadata": {},
   "outputs": [],
   "source": []
  },
  {
   "cell_type": "code",
   "execution_count": 1,
   "id": "37c3b0ed",
   "metadata": {},
   "outputs": [
    {
     "data": {
      "application/vnd.jupyter.widget-view+json": {
       "model_id": "d722a24943624152abd7166d1e2a201f",
       "version_major": 2,
       "version_minor": 1
      },
      "text/plain": [
       "MultiCanvas((32, 32), layers=1)"
      ]
     },
     "metadata": {},
     "output_type": "display_data"
    }
   ],
   "source": [
    "#from ipymlwidgets.widgets.ocr import ItemOCR\n",
    "from ipymlwidgets import Image\n",
    "from ipymlwidgets.demo import demo_image\n",
    "#item = ItemOCR(demo_image(), \"test image\")\n",
    "image = Image(demo_image())\n",
    "display(image)"
   ]
  },
  {
   "cell_type": "code",
   "execution_count": null,
   "id": "a959dadf",
   "metadata": {},
   "outputs": [],
   "source": []
  }
 ],
 "metadata": {
  "kernelspec": {
   "display_name": "ipymlwidgets",
   "language": "python",
   "name": "python3"
  },
  "language_info": {
   "codemirror_mode": {
    "name": "ipython",
    "version": 3
   },
   "file_extension": ".py",
   "mimetype": "text/x-python",
   "name": "python",
   "nbconvert_exporter": "python",
   "pygments_lexer": "ipython3",
   "version": "3.13.5"
  }
 },
 "nbformat": 4,
 "nbformat_minor": 5
}
