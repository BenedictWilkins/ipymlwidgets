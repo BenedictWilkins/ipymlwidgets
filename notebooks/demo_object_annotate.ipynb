{
 "cells": [
  {
   "cell_type": "code",
   "execution_count": null,
   "id": "0",
   "metadata": {},
   "outputs": [],
   "source": [
    "from ipymlwidgets.annotate import ObjectAnnotator\n",
    "from ipymlwidgets.demo import demo_image\n",
    "from pathlib import Path\n",
    "import numpy as np\n",
    "import json\n",
    "\n",
    "def load_example(path: Path):\n",
    "    with open(path, \"r\") as f:\n",
    "        data = json.load(f)\n",
    "    if \"annotation:verified\" in data.get(\"tags\", []):\n",
    "        pass #return None\n",
    "    image_path = path.parent.parent / Path(data['data']['image'])\n",
    "    boxes = data['data']['boxes']\n",
    "    boxes = np.array([box['box'] for box in boxes])\n",
    "    #boxes[:,2:] += 1\n",
    "    #display(image_path)\n",
    "    return dict(image=image_path, boxes=boxes)\n",
    "\n",
    "def load_all_examples(path: Path):\n",
    "    data, files = [], []\n",
    "    for file in sorted(path.glob(\"*.json\")):\n",
    "        example = load_example(file)\n",
    "        if example is not None:\n",
    "            data.append(example)\n",
    "            files.append(file)\n",
    "    return data, files\n",
    "\n",
    "PATH = Path(\"../dataset/proto-1/data\")\n",
    "DATA, DATA_FILES = load_all_examples(PATH)\n",
    "\n",
    "def save_callack(index, data):\n",
    "    with open(DATA_FILES[index].as_posix(), \"r\") as f:\n",
    "        old_data = json.load(f)\n",
    "        old_data['data']['boxes'] = [{\"box\": box.tolist(), \"label\": None} for box in data['boxes']]\n",
    "        old_data['tags'] = [\"annotation:verified\", \"annotation:manual\"]\n",
    "    with open(DATA_FILES[index].as_posix(), \"w\") as f:\n",
    "        json.dump(old_data, f, indent=2)\n",
    "    \n",
    "ann = ObjectAnnotator(data=DATA, save_callback=save_callack)\n",
    "display(ann)"
   ]
  },
  {
   "cell_type": "code",
   "execution_count": null,
   "id": "1",
   "metadata": {},
   "outputs": [],
   "source": [
    "\n",
    "\n"
   ]
  },
  {
   "cell_type": "code",
   "execution_count": null,
   "id": "2",
   "metadata": {},
   "outputs": [],
   "source": [
    "from ipymlwidgets import ImageAnnotated, Box, Text, Button\n",
    "from ipymlwidgets.demo import demo_image\n",
    "import numpy as np\n",
    "\n",
    "\n",
    "\n",
    "image = ImageAnnotated(image=demo_image())\n",
    "box = Box([image], layout={\"width\": \"50%\", \"border\": \"1px solid black\", \"border-radius\": \"10px\"})\n",
    "display(box)\n",
    "\n",
    "\n",
    "\n",
    "\n",
    "\n",
    "\n",
    "\n",
    "\n"
   ]
  }
 ],
 "metadata": {
  "kernelspec": {
   "display_name": ".venv",
   "language": "python",
   "name": "python3"
  },
  "language_info": {
   "codemirror_mode": {
    "name": "ipython",
    "version": 3
   },
   "file_extension": ".py",
   "mimetype": "text/x-python",
   "name": "python",
   "nbconvert_exporter": "python",
   "pygments_lexer": "ipython3",
   "version": "3.10.12"
  }
 },
 "nbformat": 4,
 "nbformat_minor": 5
}
