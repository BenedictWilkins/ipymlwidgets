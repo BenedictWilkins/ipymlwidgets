{
 "cells": [
  {
   "cell_type": "code",
   "execution_count": 3,
   "id": "97e8f6b8",
   "metadata": {},
   "outputs": [
    {
     "data": {
      "application/vnd.jupyter.widget-view+json": {
       "model_id": "14f2dae72c0442cc97051aa49477e1d3",
       "version_major": 2,
       "version_minor": 1
      },
      "text/plain": [
       "ItemOCR(children=[MultiCanvas((100, 10), layers=1), Text(value='test image', layout=Layout(margin='0', width='…"
      ]
     },
     "metadata": {},
     "output_type": "display_data"
    }
   ],
   "source": [
    "from ipymlwidgets.widgets.ocr import ItemOCR \n",
    "from ipymlwidgets.demo import demo_image\n",
    "import numpy as np\n",
    "item = ItemOCR(np.random.randint(0, 255, (10, 100, 3), dtype=np.uint8), \"test image\")\n",
    "display(item)"
   ]
  }
 ],
 "metadata": {
  "kernelspec": {
   "display_name": "ipymlwidgets",
   "language": "python",
   "name": "python3"
  },
  "language_info": {
   "codemirror_mode": {
    "name": "ipython",
    "version": 3
   },
   "file_extension": ".py",
   "mimetype": "text/x-python",
   "name": "python",
   "nbconvert_exporter": "python",
   "pygments_lexer": "ipython3",
   "version": "3.13.5"
  }
 },
 "nbformat": 4,
 "nbformat_minor": 5
}
