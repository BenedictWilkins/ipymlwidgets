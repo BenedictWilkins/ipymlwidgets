{
 "cells": [
  {
   "cell_type": "code",
   "execution_count": 1,
   "metadata": {},
   "outputs": [
    {
     "data": {
      "application/vnd.jupyter.widget-view+json": {
       "model_id": "dd55d3017ed542109ce957f30bd91ad3",
       "version_major": 2,
       "version_minor": 0
      },
      "text/plain": [
       "Image(children=(HTML(value='\\n    <style>\\n    .nearest_interpolation {\\n        image-rendering: pixelated !i…"
      ]
     },
     "metadata": {},
     "output_type": "display_data"
    }
   ],
   "source": [
    "\n",
    "from ipymlwidgets.widgets import Image\n",
    "import torch\n",
    "image = Image(torch.rand((3,6,10)), click_callback=print)\n",
    "#image._canvas.layout.border = \"3px dashed red\"\n",
    "display(image)\n"
   ]
  }
 ],
 "metadata": {
  "kernelspec": {
   "display_name": ".venv",
   "language": "python",
   "name": "python3"
  },
  "language_info": {
   "codemirror_mode": {
    "name": "ipython",
    "version": 3
   },
   "file_extension": ".py",
   "mimetype": "text/x-python",
   "name": "python",
   "nbconvert_exporter": "python",
   "pygments_lexer": "ipython3",
   "version": "3.10.12"
  }
 },
 "nbformat": 4,
 "nbformat_minor": 2
}
