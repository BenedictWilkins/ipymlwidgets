{
 "cells": [
  {
   "cell_type": "code",
   "execution_count": 4,
   "metadata": {},
   "outputs": [
    {
     "data": {
      "application/vnd.jupyter.widget-view+json": {
       "model_id": "e1f08a6de72947babb1f48fc11ae935f",
       "version_major": 2,
       "version_minor": 0
      },
      "text/plain": [
       "Image([4, 32, 32])"
      ]
     },
     "metadata": {},
     "output_type": "display_data"
    },
    {
     "name": "stdout",
     "output_type": "stream",
     "text": [
      "4\n",
      "torch.Size([3, 5])\n",
      "tensor([[ 5, 23, 15, 33,  0],\n",
      "        [27,  9, 37, 19,  0],\n",
      "        [ 0, 12, 10, 22,  0]])\n"
     ]
    }
   ],
   "source": [
    "\n",
    "from ipymlwidgets import ImageAnnotated\n",
    "import torch\n",
    "image = ImageAnnotated(torch.rand((3,32,32)))\n",
    "display(image)\n",
    "image.observe(print, \"click\")\n",
    "print(image.layers)\n",
    "\n",
    "xy = torch.randint(image.size[0], (3,2))\n",
    "boxes = torch.cat([xy, xy + 10, torch.zeros_like(xy[:, :1])], dim=-1)\n",
    "print(boxes.shape)\n",
    "image.boxes = boxes\n",
    "print(boxes)\n",
    "\n",
    "\n"
   ]
  },
  {
   "cell_type": "code",
   "execution_count": 2,
   "metadata": {},
   "outputs": [
    {
     "data": {
      "application/vnd.jupyter.widget-view+json": {
       "model_id": "89af997cb04a495c962b928d7de2de91",
       "version_major": 2,
       "version_minor": 0
      },
      "text/plain": [
       "Image([1, 10, 6])"
      ]
     },
     "metadata": {},
     "output_type": "display_data"
    },
    {
     "name": "stdout",
     "output_type": "stream",
     "text": [
      "{'name': 'click', 'old': traitlets.Undefined, 'new': {'x': 7, 'y': 1, 'width': 10, 'height': 6}, 'owner': Image([1, 10, 6]), 'type': 'change'}\n",
      "{'name': 'click', 'old': {'x': 7, 'y': 1, 'width': 10, 'height': 6}, 'new': {'x': 5, 'y': 2, 'width': 10, 'height': 6}, 'owner': Image([1, 10, 6]), 'type': 'change'}\n",
      "{'name': 'click', 'old': {'x': 5, 'y': 2, 'width': 10, 'height': 6}, 'new': {'x': 3, 'y': 3, 'width': 10, 'height': 6}, 'owner': Image([1, 10, 6]), 'type': 'change'}\n"
     ]
    }
   ],
   "source": [
    "\n",
    "from ipymlwidgets.widgets import Image\n",
    "import torch\n",
    "image = Image(torch.rand((3,6,10)))\n",
    "display(image)\n",
    "image.observe(print, \"click\")\n"
   ]
  }
 ],
 "metadata": {
  "kernelspec": {
   "display_name": ".venv",
   "language": "python",
   "name": "python3"
  },
  "language_info": {
   "codemirror_mode": {
    "name": "ipython",
    "version": 3
   },
   "file_extension": ".py",
   "mimetype": "text/x-python",
   "name": "python",
   "nbconvert_exporter": "python",
   "pygments_lexer": "ipython3",
   "version": "3.10.12"
  }
 },
 "nbformat": 4,
 "nbformat_minor": 2
}
