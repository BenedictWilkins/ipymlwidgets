{
 "cells": [
  {
   "cell_type": "code",
   "execution_count": null,
   "metadata": {},
   "outputs": [],
   "source": [
    "from pathlib import Path\n",
    "from datautils.widgets import IconExtractor\n",
    "\n",
    "\n",
    "path = Path(\"D:/repos/psicon/notebooks/temp/tileset\")\n",
    "ie = IconExtractor(path)\n",
    "display(ie)\n",
    "\n",
    "#image = ie._annotated_image.value\n",
    "\n",
    "\n",
    "\n",
    "# from datautils.image import to_pil\n",
    "\n",
    "# #display(to_pil(image))\n",
    "\n",
    "# from datautils.image import iconsheet_extract\n",
    "# import torch\n",
    "\n",
    "\n",
    "# result = iconsheet_extract(image.cuda(), tolerance=0.1, dilation=8, background_color=torch.tensor([0,0,0,0]), return_foreground_mask=True)\n",
    "# print(result.foreground_mask.shape)\n",
    "# display(to_pil(result.foreground_mask.float()))\n"
   ]
  },
  {
   "cell_type": "code",
   "execution_count": null,
   "metadata": {},
   "outputs": [],
   "source": [
    "from datautils.widgets import Image\n",
    "import torch\n",
    "\n",
    "image = Image(torch.zeros((3,128,128)), click_callback=print)\n",
    "display(image)\n",
    "image[:,10:20] = 1.0\n",
    "image.refresh() # must be called after setting values with __setitem__!\n",
    "image.value = torch.ones((3,50,50)) / 2"
   ]
  },
  {
   "cell_type": "code",
   "execution_count": null,
   "metadata": {},
   "outputs": [],
   "source": [
    "from datautils.widgets import AnnotatedImage\n",
    "import torch\n",
    "image = AnnotatedImage(torch.zeros((3,128,128)), click_callback=print)\n",
    "display(image)\n",
    "image[:,10:20] = 1.0\n",
    "image.refresh() # must be called after setting values with __setitem__!\n",
    "image.value = torch.ones((3,50,50)) / 2\n",
    "image.boxes = torch.tensor([[10,10,20,20],[12,15,40,30]])\n"
   ]
  },
  {
   "cell_type": "code",
   "execution_count": null,
   "metadata": {},
   "outputs": [],
   "source": [
    "from datautils.widgets import IconGrid, AnnotatedImage\n",
    "import torch\n",
    "import time\n",
    "buffer = torch.ones((4,128,128)) / 2\n",
    "buffer[:,10:20] = 1.0\n",
    "boxes = torch.tensor([[10,10,20,20],[12,15,40,30]])\n",
    "\n",
    "image = IconGrid(buffer, boxes=boxes, click_callback=print, background_color=(255,0,0))\n",
    "aimage = AnnotatedImage(buffer, boxes=boxes, click_callback=print)\n",
    "\n",
    "display(image)\n",
    "display(aimage)\n",
    "\n"
   ]
  },
  {
   "cell_type": "code",
   "execution_count": null,
   "metadata": {},
   "outputs": [],
   "source": [
    "from datautils.widgets import Swatch\n",
    "\n",
    "# Test cell for Swatch widget\n",
    "from IPython.display import display\n",
    "\n",
    "sw = Swatch(\"red\")\n",
    "display(sw)\n",
    "sw.color = (0.0, 1.0, 0.0)  # green\n",
    "display(sw)\n"
   ]
  }
 ],
 "metadata": {
  "kernelspec": {
   "display_name": ".venv",
   "language": "python",
   "name": "python3"
  },
  "language_info": {
   "codemirror_mode": {
    "name": "ipython",
    "version": 3
   },
   "file_extension": ".py",
   "mimetype": "text/x-python",
   "name": "python",
   "nbconvert_exporter": "python",
   "pygments_lexer": "ipython3",
   "version": "3.13.3"
  }
 },
 "nbformat": 4,
 "nbformat_minor": 2
}
