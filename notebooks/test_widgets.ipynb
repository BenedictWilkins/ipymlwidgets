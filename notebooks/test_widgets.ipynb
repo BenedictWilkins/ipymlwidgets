{
 "cells": [
  {
   "cell_type": "code",
   "execution_count": 1,
   "metadata": {},
   "outputs": [
    {
     "data": {
      "application/vnd.jupyter.widget-view+json": {
       "model_id": "905d10ceb6844f1d9ef7fbbf061f9a07",
       "version_major": 2,
       "version_minor": 0
      },
      "text/plain": [
       "ImageAnnotated(children=(HTML(value='\\n<style>\\n.overlay-image {\\n    position: absolute;\\n    top: 0;\\n    le…"
      ]
     },
     "metadata": {},
     "output_type": "display_data"
    },
    {
     "data": {
      "application/vnd.jupyter.widget-view+json": {
       "model_id": "2aab1434d4a448bba973b7a96f9e863e",
       "version_major": 2,
       "version_minor": 0
      },
      "text/plain": [
       "HTML(value='Hello, world!')"
      ]
     },
     "metadata": {},
     "output_type": "display_data"
    }
   ],
   "source": [
    "\n",
    "from ipymlwidgets import ImageAnnotated\n",
    "import torch\n",
    "from ipywidgets import HTML\n",
    "\n",
    "message = HTML(\"Hello, world!\")\n",
    "\n",
    "image = ImageAnnotated(torch.rand((3,32,32)), display_size=(320,320))\n",
    "def update_message(x):\n",
    "    message.value = f\"{x['new']}\"\n",
    "\n",
    "def update_message(x):\n",
    "    message.value = f\"{image.select}\"\n",
    "\n",
    "#image._overlay_canvas.observe_mouse_drag(update_message)\n",
    "\n",
    "image._overlay_canvas.observe_mouse_click(update_message)\n",
    "\n",
    "xy = torch.randint(image.image_size[0]-10, (1,2))\n",
    "boxes = torch.cat([xy, xy + 10, torch.zeros_like(xy[:, :1])], dim=-1).float()\n",
    "image.boxes = boxes\n",
    "\n",
    "display(image)\n",
    "display(message)\n"
   ]
  },
  {
   "cell_type": "code",
   "execution_count": 4,
   "metadata": {},
   "outputs": [
    {
     "name": "stdout",
     "output_type": "stream",
     "text": [
      "tensor([[ 0.,  7., 10., 17.,  0.,  0.],\n",
      "        [17., 11., 22., 26.,  0.,  0.],\n",
      "        [24., 19., 31., 26.,  0.,  0.],\n",
      "        [ 0.,  0.,  7.,  5.,  0.,  0.]])\n"
     ]
    }
   ],
   "source": [
    "print(image.boxes)"
   ]
  },
  {
   "cell_type": "code",
   "execution_count": null,
   "metadata": {},
   "outputs": [],
   "source": [
    "\n",
    "from ipymlwidgets.widgets import Image\n",
    "import torch\n",
    "\n",
    "image = Image(torch.rand((3,10,10)))\n",
    "display(image)\n",
    "image.observe_mouse_click(print)\n",
    "\n"
   ]
  },
  {
   "cell_type": "code",
   "execution_count": null,
   "metadata": {},
   "outputs": [],
   "source": [
    "import ipywidgets as widgets\n",
    "from ipymlwidgets.widgets.image import Image\n",
    "import torch\n",
    "\n",
    "class OverlayContainer(widgets.Box):\n",
    "    \"\"\"A container that overlays multiple images using CSS.\"\"\"\n",
    "    \n",
    "    def __init__(self, width: int = 640, height: int = 480, **kwargs):\n",
    "        super().__init__(**kwargs)\n",
    "        \n",
    "        # Add CSS for overlay positioning\n",
    "        self.add_class(\"overlay-container\")\n",
    "        \n",
    "        # Set up layout\n",
    "        self.layout = widgets.Layout(\n",
    "            width=f\"{width}px\",\n",
    "            height=f\"{height}px\"\n",
    "        )\n",
    "\n",
    "# Add CSS to the page\n",
    "css = \"\"\"\n",
    "<style>\n",
    ".overlay-image {\n",
    "    position: absolute;\n",
    "    top: 0;\n",
    "    left: 0;\n",
    "}\n",
    "</style>\n",
    "\"\"\"\n",
    "\n",
    "size = (640,640 )\n",
    "# Create container and images\n",
    "container = OverlayContainer(width=size[0], height=size[1])\n",
    "\n",
    "image = torch.randn((3,10,10))\n",
    "\n",
    "image1 = Image(image=torch.ones((3,10,10)) * 200, layers=1)\n",
    "image2 = Image(image=torch.randn((4,200,200)), layers=1)\n",
    "image1.add_class(\"overlay-image\")\n",
    "image2.add_class(\"overlay-image\")\n",
    "\n",
    "container.children = [widgets.HTML(css), image1, image2]\n",
    "\n",
    "# Display\n",
    "display(container)\n",
    "\n",
    "print(image1.layout)"
   ]
  },
  {
   "cell_type": "code",
   "execution_count": 21,
   "metadata": {},
   "outputs": [
    {
     "data": {
      "application/vnd.jupyter.widget-view+json": {
       "model_id": "f79c9b6607954fa69805b6792890b7fe",
       "version_major": 2,
       "version_minor": 0
      },
      "text/plain": [
       "ImageAnnotated(children=(HTML(value='\\n<style>\\n.overlay-image {\\n    position: absolute;\\n    top: 0;\\n    le…"
      ]
     },
     "metadata": {},
     "output_type": "display_data"
    },
    {
     "name": "stdout",
     "output_type": "stream",
     "text": [
      "{'name': 'mouse_click', 'old': traitlets.Undefined, 'new': {'x': 57, 'y': 33, 'w': 60, 'h': 50, 'x_client': 305, 'y_client': 180, 'w_client': 320, 'h_client': 267}, 'owner': Image([1, 60, 50]), 'type': 'change'}\n",
      "{'name': 'mouse_click', 'old': traitlets.Undefined, 'new': {'x': 7, 'y': 8, 'w': 10, 'h': 10, 'x_client': 252, 'y_client': 275, 'w_client': 320, 'h_client': 320}, 'owner': Image([1, 10, 10]), 'type': 'change'}\n",
      "{'name': 'mouse_click', 'old': {}, 'new': {'x': 7, 'y': 9, 'w': 10, 'h': 10, 'x_client': 234, 'y_client': 293, 'w_client': 320, 'h_client': 320}, 'owner': Image([1, 10, 10]), 'type': 'change'}\n"
     ]
    }
   ],
   "source": [
    "import ipywidgets as widgets\n",
    "from ipymlwidgets.widgets.image import Image\n",
    "import torch\n",
    "\n",
    "OVERLAY_CSS = \"\"\"\n",
    "<style>\n",
    ".overlay-image {\n",
    "    position: absolute;\n",
    "    top: 0;\n",
    "    left: 0;\n",
    "}\n",
    "</style>\n",
    "\"\"\"\n",
    "class ImageAnnotated(widgets.Box):\n",
    "    \n",
    "    def __init__(self, image, overlay, size : tuple[int,int] = (320,320)):\n",
    "        self._image_canvas = Image(image)\n",
    "        self._image_canvas.add_class(\"overlay-image\")\n",
    "        self._overlay_canvas = Image(overlay)\n",
    "        self._overlay_canvas.add_class(\"overlay-image\")\n",
    "        size = (f\"{size[0]}px\", f\"{size[1]}px\") if size is not None else (\"100%\", \"auto\")\n",
    "        layout = widgets.Layout(\n",
    "            width=size[0],\n",
    "            height=size[1],\n",
    "        )\n",
    "        super().__init__([widgets.HTML(OVERLAY_CSS), self._image_canvas, self._overlay_canvas], layout=layout)\n",
    "\n",
    "\n",
    "image = torch.zeros((3,10,10))\n",
    "image[0,:,:] = torch.rand((10,10))\n",
    "\n",
    "overlay = torch.zeros((4,50,60)) \n",
    "overlay[-1] = torch.rand((50,60))\n",
    "\n",
    "#overlay = torch.zeros((4,50,50))\n",
    "\n",
    "# Create container and images\n",
    "image = ImageAnnotated(\n",
    "    image,\n",
    "    overlay,\n",
    ")\n",
    "\n",
    "\n",
    "image._overlay_canvas.observe_mouse_click(print)\n",
    "image._image_canvas.observe_mouse_click(print)\n",
    "\n",
    "display(image)"
   ]
  }
 ],
 "metadata": {
  "kernelspec": {
   "display_name": ".venv",
   "language": "python",
   "name": "python3"
  },
  "language_info": {
   "codemirror_mode": {
    "name": "ipython",
    "version": 3
   },
   "file_extension": ".py",
   "mimetype": "text/x-python",
   "name": "python",
   "nbconvert_exporter": "python",
   "pygments_lexer": "ipython3",
   "version": "3.10.12"
  }
 },
 "nbformat": 4,
 "nbformat_minor": 2
}
